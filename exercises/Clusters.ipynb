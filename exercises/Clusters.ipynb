{
 "cells": [
  {
   "cell_type": "markdown",
   "metadata": {},
   "source": [
    "# Graph Algorithm"
   ]
  },
  {
   "cell_type": "markdown",
   "metadata": {},
   "source": [
    "This clustering algorithm breaks a connected, directed graph down into strongly connected components. This algorithm is from http://code.activestate.com/recipes/578507-strongly-connected-components-of-a-directed-graph/ which uses a DFS algorithm by Gabow. We count the number of components (ranging from 1 to |V|). The runtime is O(|V| + |E|). The more the components, the more tightly knit the network is (roughly speaking). For example, if we only get back two components, we know that the connectivity is one. If we get back two thousand components, we know that connectivity is likely to be much greater.\n",
    "\n",
    "There are some edge cases. For example, we don't get connectivity as it is strictly defined: the minimum number of vertices that must be removed to disconnect the graph. For example, we can get two thousand components back, but there can be just one component that's connected to the rest by a single edge, in which case the connectivity is also one."
   ]
  },
  {
   "cell_type": "code",
   "execution_count": 1,
   "metadata": {
    "collapsed": true
   },
   "outputs": [],
   "source": [
    "def strongly_connected_components_path(vertices, edges):\n",
    "    identified = set()\n",
    "    stack = []\n",
    "    index = {}\n",
    "    boundaries = []\n",
    "\n",
    "    def dfs(v):\n",
    "        index[v] = len(stack)\n",
    "        stack.append(v)\n",
    "        boundaries.append(index[v])\n",
    "\n",
    "        for w in edges[v]:\n",
    "            if w not in index:\n",
    "                for scc in dfs(w):\n",
    "                    yield scc\n",
    "            elif w not in identified:\n",
    "                while index[w] < boundaries[-1]:\n",
    "                    boundaries.pop()\n",
    "\n",
    "        if boundaries[-1] == index[v]:\n",
    "            boundaries.pop()\n",
    "            scc = set(stack[index[v]:])\n",
    "            del stack[index[v]:]\n",
    "            identified.update(scc)\n",
    "            yield scc\n",
    "\n",
    "    for v in vertices:\n",
    "        if v not in index:\n",
    "            for scc in dfs(v):\n",
    "                yield scc"
   ]
  },
  {
   "cell_type": "code",
   "execution_count": 6,
   "metadata": {
    "collapsed": false
   },
   "outputs": [
    {
     "name": "stdout",
     "output_type": "stream",
     "text": [
      "set([3])\n",
      "set([2, 4, 5, 6])\n",
      "set([1])\n",
      "0.5\n"
     ]
    }
   ],
   "source": [
    "# Gabow's example\n",
    "vertices = [1, 2, 3, 4, 5, 6]\n",
    "edges = {1: [2, 3], 2: [3, 4], 3: [], 4: [3, 5], 5: [2, 6], 6: [3, 4]}\n",
    "\n",
    "sccs = strongly_connected_components_path(vertices, edges)\n",
    "\n",
    "count = 0\n",
    "\n",
    "for scc in sccs:\n",
    "    print scc\n",
    "    count += 1\n",
    "    \n",
    "print count / (1.0 * len(vertices))"
   ]
  },
  {
   "cell_type": "code",
   "execution_count": null,
   "metadata": {
    "collapsed": true
   },
   "outputs": [],
   "source": []
  }
 ],
 "metadata": {
  "kernelspec": {
   "display_name": "Python 2",
   "language": "python",
   "name": "python2"
  },
  "language_info": {
   "codemirror_mode": {
    "name": "ipython",
    "version": 2
   },
   "file_extension": ".py",
   "mimetype": "text/x-python",
   "name": "python",
   "nbconvert_exporter": "python",
   "pygments_lexer": "ipython2",
   "version": "2.7.13"
  }
 },
 "nbformat": 4,
 "nbformat_minor": 2
}
